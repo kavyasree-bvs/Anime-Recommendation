{
 "cells": [
  {
   "cell_type": "code",
   "execution_count": 1,
   "metadata": {
    "_cell_guid": "27f2680b-e691-70e4-e762-1bca22449d14"
   },
   "outputs": [],
   "source": [
    "# Import relevant libraries \n",
    "\n",
    "import pandas as pd\n",
    "import numpy as np\n",
    "import scipy as sp\n",
    "\n",
    "import operator\n",
    "%matplotlib inline"
   ]
  },
  {
   "cell_type": "code",
   "execution_count": 155,
   "metadata": {
    "_cell_guid": "f5c1d1b7-983a-daa8-27ab-d25011d1f669"
   },
   "outputs": [],
   "source": [
    "#Read the Dataset\n",
    "anime = pd.read_csv('anime.csv')\n",
    "rating = pd.read_csv('rating.csv')"
   ]
  },
  {
   "cell_type": "code",
   "execution_count": 156,
   "metadata": {
    "_cell_guid": "30c96da8-d202-85cc-c546-47d31b39c04b"
   },
   "outputs": [
    {
     "data": {
      "text/html": [
       "<div>\n",
       "<style scoped>\n",
       "    .dataframe tbody tr th:only-of-type {\n",
       "        vertical-align: middle;\n",
       "    }\n",
       "\n",
       "    .dataframe tbody tr th {\n",
       "        vertical-align: top;\n",
       "    }\n",
       "\n",
       "    .dataframe thead th {\n",
       "        text-align: right;\n",
       "    }\n",
       "</style>\n",
       "<table border=\"1\" class=\"dataframe\">\n",
       "  <thead>\n",
       "    <tr style=\"text-align: right;\">\n",
       "      <th></th>\n",
       "      <th>user_id</th>\n",
       "      <th>anime_id</th>\n",
       "      <th>rating</th>\n",
       "    </tr>\n",
       "  </thead>\n",
       "  <tbody>\n",
       "    <tr>\n",
       "      <th>0</th>\n",
       "      <td>1</td>\n",
       "      <td>20</td>\n",
       "      <td>NaN</td>\n",
       "    </tr>\n",
       "    <tr>\n",
       "      <th>1</th>\n",
       "      <td>1</td>\n",
       "      <td>24</td>\n",
       "      <td>NaN</td>\n",
       "    </tr>\n",
       "    <tr>\n",
       "      <th>2</th>\n",
       "      <td>1</td>\n",
       "      <td>79</td>\n",
       "      <td>NaN</td>\n",
       "    </tr>\n",
       "    <tr>\n",
       "      <th>3</th>\n",
       "      <td>1</td>\n",
       "      <td>226</td>\n",
       "      <td>NaN</td>\n",
       "    </tr>\n",
       "    <tr>\n",
       "      <th>4</th>\n",
       "      <td>1</td>\n",
       "      <td>241</td>\n",
       "      <td>NaN</td>\n",
       "    </tr>\n",
       "  </tbody>\n",
       "</table>\n",
       "</div>"
      ],
      "text/plain": [
       "   user_id  anime_id  rating\n",
       "0        1        20     NaN\n",
       "1        1        24     NaN\n",
       "2        1        79     NaN\n",
       "3        1       226     NaN\n",
       "4        1       241     NaN"
      ]
     },
     "execution_count": 156,
     "metadata": {},
     "output_type": "execute_result"
    }
   ],
   "source": [
    "#Replace the -1 rating with Nan\n",
    "rating.rating.replace({-1: np.nan}, inplace = True)\n",
    "rating.head()"
   ]
  },
  {
   "cell_type": "code",
   "execution_count": 157,
   "metadata": {
    "_cell_guid": "42760207-0e77-e6cc-03c1-5cb3d2107991"
   },
   "outputs": [
    {
     "data": {
      "text/html": [
       "<div>\n",
       "<style scoped>\n",
       "    .dataframe tbody tr th:only-of-type {\n",
       "        vertical-align: middle;\n",
       "    }\n",
       "\n",
       "    .dataframe tbody tr th {\n",
       "        vertical-align: top;\n",
       "    }\n",
       "\n",
       "    .dataframe thead th {\n",
       "        text-align: right;\n",
       "    }\n",
       "</style>\n",
       "<table border=\"1\" class=\"dataframe\">\n",
       "  <thead>\n",
       "    <tr style=\"text-align: right;\">\n",
       "      <th></th>\n",
       "      <th>anime_id</th>\n",
       "      <th>name</th>\n",
       "      <th>genre</th>\n",
       "      <th>type</th>\n",
       "      <th>episodes</th>\n",
       "      <th>rating</th>\n",
       "      <th>members</th>\n",
       "    </tr>\n",
       "  </thead>\n",
       "  <tbody>\n",
       "    <tr>\n",
       "      <th>1</th>\n",
       "      <td>5114</td>\n",
       "      <td>Fullmetal Alchemist: Brotherhood</td>\n",
       "      <td>Action, Adventure, Drama, Fantasy, Magic, Mili...</td>\n",
       "      <td>TV</td>\n",
       "      <td>64</td>\n",
       "      <td>9.26</td>\n",
       "      <td>793665</td>\n",
       "    </tr>\n",
       "    <tr>\n",
       "      <th>2</th>\n",
       "      <td>28977</td>\n",
       "      <td>Gintama°</td>\n",
       "      <td>Action, Comedy, Historical, Parody, Samurai, S...</td>\n",
       "      <td>TV</td>\n",
       "      <td>51</td>\n",
       "      <td>9.25</td>\n",
       "      <td>114262</td>\n",
       "    </tr>\n",
       "    <tr>\n",
       "      <th>3</th>\n",
       "      <td>9253</td>\n",
       "      <td>Steins;Gate</td>\n",
       "      <td>Sci-Fi, Thriller</td>\n",
       "      <td>TV</td>\n",
       "      <td>24</td>\n",
       "      <td>9.17</td>\n",
       "      <td>673572</td>\n",
       "    </tr>\n",
       "    <tr>\n",
       "      <th>4</th>\n",
       "      <td>9969</td>\n",
       "      <td>Gintama&amp;#039;</td>\n",
       "      <td>Action, Comedy, Historical, Parody, Samurai, S...</td>\n",
       "      <td>TV</td>\n",
       "      <td>51</td>\n",
       "      <td>9.16</td>\n",
       "      <td>151266</td>\n",
       "    </tr>\n",
       "    <tr>\n",
       "      <th>5</th>\n",
       "      <td>32935</td>\n",
       "      <td>Haikyuu!!: Karasuno Koukou VS Shiratorizawa Ga...</td>\n",
       "      <td>Comedy, Drama, School, Shounen, Sports</td>\n",
       "      <td>TV</td>\n",
       "      <td>10</td>\n",
       "      <td>9.15</td>\n",
       "      <td>93351</td>\n",
       "    </tr>\n",
       "  </tbody>\n",
       "</table>\n",
       "</div>"
      ],
      "text/plain": [
       "   anime_id                                               name  \\\n",
       "1      5114                   Fullmetal Alchemist: Brotherhood   \n",
       "2     28977                                           Gintama°   \n",
       "3      9253                                        Steins;Gate   \n",
       "4      9969                                      Gintama&#039;   \n",
       "5     32935  Haikyuu!!: Karasuno Koukou VS Shiratorizawa Ga...   \n",
       "\n",
       "                                               genre type episodes  rating  \\\n",
       "1  Action, Adventure, Drama, Fantasy, Magic, Mili...   TV       64    9.26   \n",
       "2  Action, Comedy, Historical, Parody, Samurai, S...   TV       51    9.25   \n",
       "3                                   Sci-Fi, Thriller   TV       24    9.17   \n",
       "4  Action, Comedy, Historical, Parody, Samurai, S...   TV       51    9.16   \n",
       "5             Comedy, Drama, School, Shounen, Sports   TV       10    9.15   \n",
       "\n",
       "   members  \n",
       "1   793665  \n",
       "2   114262  \n",
       "3   673572  \n",
       "4   151266  \n",
       "5    93351  "
      ]
     },
     "execution_count": 157,
     "metadata": {},
     "output_type": "execute_result"
    }
   ],
   "source": [
    "# Selecte Only TV series from the dataset\n",
    "\n",
    "anime_tv = anime[anime['type']=='TV']\n",
    "anime_tv.head()"
   ]
  },
  {
   "cell_type": "code",
   "execution_count": 159,
   "metadata": {
    "_cell_guid": "333be05a-5492-67a2-a64c-154a52ac060f"
   },
   "outputs": [],
   "source": [
    "# Join the two dataframes on the anime_id columns\n",
    "\n",
    "merged = rating.merge(anime_tv, left_on = 'anime_id', right_on = 'anime_id', suffixes= ['_user', ''])\n",
    "merged.rename(columns = {'rating_user':'user_rating'}, inplace = True)"
   ]
  },
  {
   "cell_type": "code",
   "execution_count": 163,
   "metadata": {},
   "outputs": [
    {
     "data": {
      "text/html": [
       "<div>\n",
       "<style scoped>\n",
       "    .dataframe tbody tr th:only-of-type {\n",
       "        vertical-align: middle;\n",
       "    }\n",
       "\n",
       "    .dataframe tbody tr th {\n",
       "        vertical-align: top;\n",
       "    }\n",
       "\n",
       "    .dataframe thead th {\n",
       "        text-align: right;\n",
       "    }\n",
       "</style>\n",
       "<table border=\"1\" class=\"dataframe\">\n",
       "  <thead>\n",
       "    <tr style=\"text-align: right;\">\n",
       "      <th></th>\n",
       "      <th>user_id</th>\n",
       "      <th>anime_id</th>\n",
       "      <th>user_rating</th>\n",
       "    </tr>\n",
       "  </thead>\n",
       "  <tbody>\n",
       "    <tr>\n",
       "      <th>0</th>\n",
       "      <td>1</td>\n",
       "      <td>20</td>\n",
       "      <td>NaN</td>\n",
       "    </tr>\n",
       "    <tr>\n",
       "      <th>1</th>\n",
       "      <td>3</td>\n",
       "      <td>20</td>\n",
       "      <td>8.0</td>\n",
       "    </tr>\n",
       "    <tr>\n",
       "      <th>2</th>\n",
       "      <td>5</td>\n",
       "      <td>20</td>\n",
       "      <td>6.0</td>\n",
       "    </tr>\n",
       "    <tr>\n",
       "      <th>3</th>\n",
       "      <td>6</td>\n",
       "      <td>20</td>\n",
       "      <td>NaN</td>\n",
       "    </tr>\n",
       "    <tr>\n",
       "      <th>4</th>\n",
       "      <td>10</td>\n",
       "      <td>20</td>\n",
       "      <td>NaN</td>\n",
       "    </tr>\n",
       "  </tbody>\n",
       "</table>\n",
       "</div>"
      ],
      "text/plain": [
       "   user_id  anime_id  user_rating\n",
       "0        1        20          NaN\n",
       "1        3        20          8.0\n",
       "2        5        20          6.0\n",
       "3        6        20          NaN\n",
       "4       10        20          NaN"
      ]
     },
     "execution_count": 163,
     "metadata": {},
     "output_type": "execute_result"
    }
   ],
   "source": [
    "# For computing reasons I'm limiting the dataframe length to 1000 users and 2000 animes\n",
    "\n",
    "merged=merged[['user_id', 'anime_id', 'user_rating']]\n",
    "#merged = merged[pd.notnull(merged['user_rating'])]\n",
    "merged_sub= merged[merged.user_id <= 1000]\n",
    "train = merged_sub[merged_sub.anime_id<=2000]\n",
    "train.head()"
   ]
  },
  {
   "cell_type": "code",
   "execution_count": 169,
   "metadata": {},
   "outputs": [
    {
     "data": {
      "text/html": [
       "<div>\n",
       "<style scoped>\n",
       "    .dataframe tbody tr th:only-of-type {\n",
       "        vertical-align: middle;\n",
       "    }\n",
       "\n",
       "    .dataframe tbody tr th {\n",
       "        vertical-align: top;\n",
       "    }\n",
       "\n",
       "    .dataframe thead th {\n",
       "        text-align: right;\n",
       "    }\n",
       "</style>\n",
       "<table border=\"1\" class=\"dataframe\">\n",
       "  <thead>\n",
       "    <tr style=\"text-align: right;\">\n",
       "      <th></th>\n",
       "      <th>user_id</th>\n",
       "      <th>anime_id</th>\n",
       "      <th>user_rating</th>\n",
       "    </tr>\n",
       "  </thead>\n",
       "  <tbody>\n",
       "    <tr>\n",
       "      <th>1</th>\n",
       "      <td>3</td>\n",
       "      <td>20</td>\n",
       "      <td>8.0</td>\n",
       "    </tr>\n",
       "    <tr>\n",
       "      <th>2</th>\n",
       "      <td>5</td>\n",
       "      <td>20</td>\n",
       "      <td>6.0</td>\n",
       "    </tr>\n",
       "    <tr>\n",
       "      <th>5</th>\n",
       "      <td>21</td>\n",
       "      <td>20</td>\n",
       "      <td>8.0</td>\n",
       "    </tr>\n",
       "    <tr>\n",
       "      <th>6</th>\n",
       "      <td>28</td>\n",
       "      <td>20</td>\n",
       "      <td>9.0</td>\n",
       "    </tr>\n",
       "    <tr>\n",
       "      <th>7</th>\n",
       "      <td>34</td>\n",
       "      <td>20</td>\n",
       "      <td>9.0</td>\n",
       "    </tr>\n",
       "  </tbody>\n",
       "</table>\n",
       "</div>"
      ],
      "text/plain": [
       "   user_id  anime_id  user_rating\n",
       "1        3        20          8.0\n",
       "2        5        20          6.0\n",
       "5       21        20          8.0\n",
       "6       28        20          9.0\n",
       "7       34        20          9.0"
      ]
     },
     "execution_count": 169,
     "metadata": {},
     "output_type": "execute_result"
    }
   ],
   "source": [
    "train = train[pd.notnull(train['user_rating'])]\n",
    "train.head()"
   ]
  },
  {
   "cell_type": "markdown",
   "metadata": {},
   "source": [
    "## Calculate Average Episodes and construct user x episodes matrix"
   ]
  },
  {
   "cell_type": "code",
   "execution_count": 191,
   "metadata": {},
   "outputs": [],
   "source": [
    "avg_good_epi=np.zeros(1001)\n",
    "avg_bad_epi=np.zeros(1001)\n",
    "avg_epi=np.zeros(1001)"
   ]
  },
  {
   "cell_type": "code",
   "execution_count": 240,
   "metadata": {},
   "outputs": [],
   "source": [
    "count_good=np.zeros(1001)\n",
    "count_bad=np.zeros(1001)\n",
    "count_all=np.zeros(1001)"
   ]
  },
  {
   "cell_type": "code",
   "execution_count": 249,
   "metadata": {},
   "outputs": [],
   "source": [
    "for records in train.iterrows():\n",
    "    movie=records[1]['anime_id']\n",
    "    usr=int(records[1]['user_id'])\n",
    "    if(usr==1):\n",
    "        print(movie)\n",
    "    rating=records[1]['user_rating']\n",
    "    number=anime_tv[anime_tv['anime_id']==movie]['episodes']\n",
    "    epi=int(number)\n",
    "    if rating>5:\n",
    "        avg_good_epi[usr]+=epi\n",
    "        count_good[usr]+=1\n",
    "    else:\n",
    "        count_bad[usr]+=1\n",
    "        avg_bad_epi[usr]+=epi\n",
    "    avg_epi[usr]+=epi\n",
    "    count_all[usr]+=1\n",
    "    "
   ]
  },
  {
   "cell_type": "code",
   "execution_count": 254,
   "metadata": {},
   "outputs": [],
   "source": [
    "for x in range(1001):\n",
    "    if count_good[x]>0:\n",
    "        avg_good_epi[x]/=count_good[x]\n",
    "    if count_bad[x]>0:\n",
    "        avg_bad_epi[x]/=count_bad[x]\n",
    "    if count_all[x]>0:\n",
    "        avg_epi/=count_all[x]"
   ]
  },
  {
   "cell_type": "code",
   "execution_count": 196,
   "metadata": {},
   "outputs": [],
   "source": [
    "user_sim=np.zeros((1001,1001))"
   ]
  },
  {
   "cell_type": "code",
   "execution_count": 212,
   "metadata": {},
   "outputs": [],
   "source": [
    "t=train.sample(frac=0.75,random_state=5)\n",
    "test=train.drop(t.index)"
   ]
  },
  {
   "cell_type": "code",
   "execution_count": 227,
   "metadata": {},
   "outputs": [],
   "source": [
    "u=np.concatenate((avg_bad_epi,avg_good_epi),axis=0)"
   ]
  },
  {
   "cell_type": "code",
   "execution_count": 256,
   "metadata": {},
   "outputs": [],
   "source": [
    "x=np.reshape(avg_bad_epi,(1001,1))\n",
    "y=np.reshape(avg_good_epi,(1001,1))\n",
    "z=np.reshape(avg_epi,(1001,1))"
   ]
  },
  {
   "cell_type": "code",
   "execution_count": 257,
   "metadata": {},
   "outputs": [],
   "source": [
    "u=np.concatenate((x,y),axis=1)"
   ]
  },
  {
   "cell_type": "code",
   "execution_count": 233,
   "metadata": {},
   "outputs": [],
   "source": [
    "u=np.concatenate((x,y),axis=1)"
   ]
  },
  {
   "cell_type": "code",
   "execution_count": 263,
   "metadata": {},
   "outputs": [],
   "source": [
    "user_epi_matrix=np.concatenate((u,z),axis=1)"
   ]
  },
  {
   "cell_type": "markdown",
   "metadata": {},
   "source": [
    "## Create User x Anime matrix for train and test"
   ]
  },
  {
   "cell_type": "code",
   "execution_count": 213,
   "metadata": {},
   "outputs": [],
   "source": [
    "user_movie_matrix_test=np.zeros((1001,2001))"
   ]
  },
  {
   "cell_type": "code",
   "execution_count": 213,
   "metadata": {},
   "outputs": [],
   "source": [
    "user_movie_matrix_test=np.zeros((1001,2001))"
   ]
  },
  {
   "cell_type": "code",
   "execution_count": 201,
   "metadata": {},
   "outputs": [],
   "source": [
    "for x in train.iterrows():\n",
    "    i=int(x[1]['user_id'])\n",
    "    j=int(x[1]['anime_id'])\n",
    "    rating=x[1]['user_rating']\n",
    "    user_movie_matrix[i][j]=rating"
   ]
  },
  {
   "cell_type": "code",
   "execution_count": 214,
   "metadata": {},
   "outputs": [],
   "source": [
    "for x in test.iterrows():\n",
    "    i=int(x[1]['user_id'])\n",
    "    j=int(x[1]['anime_id'])\n",
    "    rating=x[1]['user_rating']\n",
    "    user_movie_matrix_test[i][j]=rating"
   ]
  },
  {
   "cell_type": "markdown",
   "metadata": {},
   "source": [
    "## Calculate Mean Rating for every user"
   ]
  },
  {
   "cell_type": "code",
   "execution_count": 211,
   "metadata": {},
   "outputs": [
    {
     "data": {
      "text/plain": [
       "7.769230769230769"
      ]
     },
     "execution_count": 211,
     "metadata": {},
     "output_type": "execute_result"
    }
   ],
   "source": [
    "mean_rating=[0]*1001\n",
    "for x in range(1001):\n",
    "    u = train.loc[train['user_id']==x]\n",
    "    if(len(u.user_rating)>0):\n",
    "        mean_rating[x]=sum(u.user_rating)/len(u.user_rating)\n",
    "mean_rating[3]"
   ]
  },
  {
   "cell_type": "markdown",
   "metadata": {},
   "source": [
    "## Define function for cosine similarity"
   ]
  },
  {
   "cell_type": "code",
   "execution_count": 208,
   "metadata": {},
   "outputs": [],
   "source": [
    "def cos_sim(x,y):\n",
    "    dot=np.dot(x,y)\n",
    "    norm=np.linalg.norm(x)*np.linalg.norm(y)\n",
    "    sim=dot/norm\n",
    "    return sim"
   ]
  },
  {
   "cell_type": "markdown",
   "metadata": {},
   "source": [
    "## Baseline prediction"
   ]
  },
  {
   "cell_type": "code",
   "execution_count": 267,
   "metadata": {},
   "outputs": [],
   "source": [
    "k=0.05\n",
    "pred= {'user_id':[], 'anime_id':[], 'rating':[]}\n",
    "for x in range(1001):\n",
    "    movies=test['anime_id'][test['user_id']==x]\n",
    "    for m in movies:\n",
    "        pred['anime_id'].append(m)\n",
    "        similar_users=train['user_id'][train['anime_id']==m]\n",
    "        rating=0\n",
    "        for u in similar_users:\n",
    "            if u!=x:\n",
    "                rating+=cos_sim(user_movie_matrix[x],user_movie_matrix[u])*(user_movie_matrix[u][m]-mean_rating[u])\n",
    "        r=mean_rating[x]+k*rating\n",
    "        pred['user_id'].append(x)\n",
    "        pred['rating'].append(r)"
   ]
  },
  {
   "cell_type": "markdown",
   "metadata": {},
   "source": [
    "## Prediction using sum of cosine similarity of rating and episodes"
   ]
  },
  {
   "cell_type": "code",
   "execution_count": 329,
   "metadata": {},
   "outputs": [],
   "source": [
    "k=0.05\n",
    "b=0.8\n",
    "pred_epi_sum= {'user_id':[], 'anime_id':[], 'rating':[]}\n",
    "for x in range(1001):\n",
    "    movies=test['anime_id'][test['user_id']==x]\n",
    "    for m in movies:\n",
    "        pred_epi_sum['anime_id'].append(m)\n",
    "        similar_users=train['user_id'][train['anime_id']==m]\n",
    "        rating=0\n",
    "        for u in similar_users:\n",
    "            if u!=x:\n",
    "                cos_sim_rat=cos_sim(user_movie_matrix[x],user_movie_matrix[u])\n",
    "                cos_sim_epi=cos_sim(user_epi_matrix[x],user_epi_matrix[u])\n",
    "                rating+=((b*cos_sim_rat)+((1-b)*cos_sim_epi))*(user_movie_matrix[u][m]-mean_rating[u])\n",
    "        r=mean_rating[x]+k*rating\n",
    "        pred_epi_sum['user_id'].append(x)\n",
    "        pred_epi_sum['rating'].append(r)"
   ]
  },
  {
   "cell_type": "markdown",
   "metadata": {},
   "source": [
    "## Prediction using product of cosine similarity of rating and episodes"
   ]
  },
  {
   "cell_type": "code",
   "execution_count": 281,
   "metadata": {},
   "outputs": [],
   "source": [
    "k=0.05\n",
    "pred_epi= {'user_id':[], 'anime_id':[], 'rating':[]}\n",
    "for x in range(1001):\n",
    "    movies=test['anime_id'][test['user_id']==x]\n",
    "    for m in movies:\n",
    "        pred_epi['anime_id'].append(m)\n",
    "        similar_users=train['user_id'][train['anime_id']==m]\n",
    "        rating=0\n",
    "        for u in similar_users:\n",
    "            if u!=x:\n",
    "                cos_sim_rat=cos_sim(user_movie_matrix[x],user_movie_matrix[u])\n",
    "                cos_sim_epi=cos_sim(user_epi_matrix[x],user_epi_matrix[u])\n",
    "                rating+=((cos_sim_rat)*(cos_sim_epi))*(user_movie_matrix[u][m]-mean_rating[u])\n",
    "        r=mean_rating[x]+k*rating\n",
    "        pred_epi['user_id'].append(x)\n",
    "        pred_epi['rating'].append(r)"
   ]
  },
  {
   "cell_type": "markdown",
   "metadata": {},
   "source": [
    "## Prediction by taking in account the closeness from the anime to be predicted"
   ]
  },
  {
   "cell_type": "code",
   "execution_count": 303,
   "metadata": {},
   "outputs": [],
   "source": [
    "k=0.05\n",
    "pred_rating= {'user_id':[], 'anime_id':[], 'rating':[]}\n",
    "for x in range(1001):\n",
    "    movies=test['anime_id'][test['user_id']==x]\n",
    "    for m in movies:\n",
    "        pred_rating['anime_id'].append(m)\n",
    "        similar_users=train['user_id'][train['anime_id']==m]\n",
    "        rating=0\n",
    "        for u in similar_users:\n",
    "            if u!=x:\n",
    "                rating+=cos_sim(user_movie_matrix[x],user_movie_matrix[u])*(user_movie_matrix[u][m]-mean_rating[u])\n",
    "        r=mean_rating[x]+k*rating\n",
    "        number=anime_tv[anime_tv['anime_id']==m]['episodes']\n",
    "        epi=int(number)\n",
    "        good_close=abs(avg_good_epi[x]-epi)\n",
    "        bad_close=abs(avg_bad_epi[x]-epi)\n",
    "        if(good_close>bad_close):\n",
    "            if(avg_good_epi[x]>0):\n",
    "                r+=0.2*(abs(avg_good_epi[x]-epi)/avg_good_epi[x])\n",
    "        else:\n",
    "            if(avg_bad_epi[x]>0):\n",
    "                r-=0.2*(abs(avg_bad_epi[x]-epi)/avg_bad_epi[x])\n",
    "        pred_rating['user_id'].append(x)\n",
    "        pred_rating['rating'].append(r)"
   ]
  },
  {
   "cell_type": "code",
   "execution_count": 268,
   "metadata": {},
   "outputs": [],
   "source": [
    "predictions = pd.DataFrame.from_dict(pred)"
   ]
  },
  {
   "cell_type": "code",
   "execution_count": 330,
   "metadata": {},
   "outputs": [],
   "source": [
    "predictions_epi_sum=pd.DataFrame.from_dict(pred_epi_sum)"
   ]
  },
  {
   "cell_type": "code",
   "execution_count": 282,
   "metadata": {},
   "outputs": [],
   "source": [
    "predictions_epi=pd.DataFrame.from_dict(pred_epi)"
   ]
  },
  {
   "cell_type": "code",
   "execution_count": 304,
   "metadata": {},
   "outputs": [],
   "source": [
    "predictions_rating=pd.DataFrame.from_dict(pred_rating)"
   ]
  },
  {
   "cell_type": "markdown",
   "metadata": {},
   "source": [
    "## Baseline Results"
   ]
  },
  {
   "cell_type": "code",
   "execution_count": 269,
   "metadata": {},
   "outputs": [
    {
     "name": "stdout",
     "output_type": "stream",
     "text": [
      "MAE 1.0895249319737477\n",
      "RMSE 1.5054484040036809\n"
     ]
    }
   ],
   "source": [
    "import math\n",
    "RMSE=0.0\n",
    "MAE=0.0\n",
    "count=0\n",
    "for pred in predictions.iterrows():\n",
    "    i=int(pred[1]['user_id'])\n",
    "    j=int(pred[1]['anime_id'])\n",
    "    rating=pred[1]['rating']\n",
    "    MAE+=abs(rating-user_movie_matrix_test[i][j])\n",
    "    RMSE+=(rating-user_movie_matrix_test[i][j])**2\n",
    "    count+=1\n",
    "MAE/=count\n",
    "RMSE/=count\n",
    "RMSE=math.sqrt(RMSE)\n",
    "print(\"MAE\",MAE)\n",
    "print(\"RMSE\",RMSE)\n"
   ]
  },
  {
   "cell_type": "markdown",
   "metadata": {},
   "source": [
    "## Results on sum of cosine similarity of rating and episodes"
   ]
  },
  {
   "cell_type": "code",
   "execution_count": 331,
   "metadata": {},
   "outputs": [
    {
     "name": "stdout",
     "output_type": "stream",
     "text": [
      "MAE 1.2417140934955182\n",
      "RMSE 1.8315199611732704\n"
     ]
    }
   ],
   "source": [
    "import math\n",
    "RMSE=0.0\n",
    "MAE=0.0\n",
    "count=0\n",
    "for pred in predictions_epi_sum.iterrows():\n",
    "    i=int(pred[1]['user_id'])\n",
    "    j=int(pred[1]['anime_id'])\n",
    "    rating=pred[1]['rating']\n",
    "    MAE+=abs(rating-user_movie_matrix_test[i][j])\n",
    "    RMSE+=(rating-user_movie_matrix_test[i][j])**2\n",
    "    count+=1\n",
    "MAE/=count\n",
    "RMSE/=count\n",
    "RMSE=math.sqrt(RMSE)\n",
    "print(\"MAE\",MAE)\n",
    "print(\"RMSE\",RMSE)\n"
   ]
  },
  {
   "cell_type": "markdown",
   "metadata": {},
   "source": [
    "## Result on product of both the similarity"
   ]
  },
  {
   "cell_type": "code",
   "execution_count": 283,
   "metadata": {},
   "outputs": [
    {
     "name": "stdout",
     "output_type": "stream",
     "text": [
      "MAE 1.0273690125119073\n",
      "RMSE 1.390845600498123\n"
     ]
    }
   ],
   "source": [
    "import math\n",
    "RMSE=0.0\n",
    "MAE=0.0\n",
    "count=0\n",
    "for pred in predictions_epi.iterrows():\n",
    "    i=int(pred[1]['user_id'])\n",
    "    j=int(pred[1]['anime_id'])\n",
    "    rating=pred[1]['rating']\n",
    "    MAE+=abs(rating-user_movie_matrix_test[i][j])\n",
    "    RMSE+=(rating-user_movie_matrix_test[i][j])**2\n",
    "    count+=1\n",
    "MAE/=count\n",
    "RMSE/=count\n",
    "RMSE=math.sqrt(RMSE)\n",
    "print(\"MAE\",MAE)\n",
    "print(\"RMSE\",RMSE)\n"
   ]
  },
  {
   "cell_type": "markdown",
   "metadata": {},
   "source": [
    "## Result using Closeness from the average good or bad episode"
   ]
  },
  {
   "cell_type": "code",
   "execution_count": 305,
   "metadata": {},
   "outputs": [
    {
     "name": "stdout",
     "output_type": "stream",
     "text": [
      "MAE 1.1874551048829776\n",
      "RMSE 1.663290973754889\n"
     ]
    }
   ],
   "source": [
    "# Your Code Here...\n",
    "# Report Mean Absolute Error and Root Mean Squared Error for test set\n",
    "\n",
    "import math\n",
    "RMSE=0.0\n",
    "MAE=0.0\n",
    "count=0\n",
    "for pred in predictions_rating.iterrows():\n",
    "    i=int(pred[1]['user_id'])\n",
    "    j=int(pred[1]['anime_id'])\n",
    "    rating=pred[1]['rating']\n",
    "    MAE+=abs(rating-user_movie_matrix_test[i][j])\n",
    "    RMSE+=(rating-user_movie_matrix_test[i][j])**2\n",
    "    count+=1\n",
    "MAE/=count\n",
    "RMSE/=count\n",
    "RMSE=math.sqrt(RMSE)\n",
    "print(\"MAE\",MAE)\n",
    "print(\"RMSE\",RMSE)\n"
   ]
  }
 ],
 "metadata": {
  "_change_revision": 0,
  "_is_fork": false,
  "kernelspec": {
   "display_name": "Python 3",
   "language": "python",
   "name": "python3"
  },
  "language_info": {
   "codemirror_mode": {
    "name": "ipython",
    "version": 3
   },
   "file_extension": ".py",
   "mimetype": "text/x-python",
   "name": "python",
   "nbconvert_exporter": "python",
   "pygments_lexer": "ipython3",
   "version": "3.6.8"
  }
 },
 "nbformat": 4,
 "nbformat_minor": 1
}
